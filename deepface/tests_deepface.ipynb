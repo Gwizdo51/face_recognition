{
 "cells": [
  {
   "cell_type": "code",
   "execution_count": 5,
   "id": "1d783666-3a64-4959-94ab-f9d9c0da995b",
   "metadata": {},
   "outputs": [],
   "source": [
    "from deepface import DeepFace\n",
    "import pandas as pd\n",
    "pd.set_option('display.max_colwidth', None)"
   ]
  },
  {
   "cell_type": "code",
   "execution_count": 3,
   "id": "d061e987-7a97-4d2c-bd9d-4d39425fe9ba",
   "metadata": {},
   "outputs": [
    {
     "name": "stdout",
     "output_type": "stream",
     "text": [
      "vgg_face_weights.h5 will be downloaded...\n"
     ]
    },
    {
     "name": "stderr",
     "output_type": "stream",
     "text": [
      "Downloading...\n",
      "From: https://github.com/serengil/deepface_models/releases/download/v1.0/vgg_face_weights.h5\n",
      "To: /home/arthur/.deepface/weights/vgg_face_weights.h5\n",
      "100%|████████████████████████████████████████████████████████████| 580M/580M [00:19<00:00, 30.0MB/s]\n"
     ]
    },
    {
     "name": "stdout",
     "output_type": "stream",
     "text": [
      "Representations stored in  ../face_detection/database / representations_vgg_face.pkl  file. Please delete this file when you add new identities in your database.\n",
      "find function lasts  22.765618324279785  seconds\n"
     ]
    }
   ],
   "source": [
    "df = DeepFace.find(img_path=\"../face_detection/test_images/test_chris.jpg\", db_path=\"../face_detection/database\")"
   ]
  },
  {
   "cell_type": "code",
   "execution_count": 6,
   "id": "f897cd77-b912-4f37-a255-4d8d10f2645f",
   "metadata": {},
   "outputs": [
    {
     "data": {
      "text/html": [
       "<div>\n",
       "<style scoped>\n",
       "    .dataframe tbody tr th:only-of-type {\n",
       "        vertical-align: middle;\n",
       "    }\n",
       "\n",
       "    .dataframe tbody tr th {\n",
       "        vertical-align: top;\n",
       "    }\n",
       "\n",
       "    .dataframe thead th {\n",
       "        text-align: right;\n",
       "    }\n",
       "</style>\n",
       "<table border=\"1\" class=\"dataframe\">\n",
       "  <thead>\n",
       "    <tr style=\"text-align: right;\">\n",
       "      <th></th>\n",
       "      <th>identity</th>\n",
       "      <th>VGG-Face_cosine</th>\n",
       "    </tr>\n",
       "  </thead>\n",
       "  <tbody>\n",
       "    <tr>\n",
       "      <th>0</th>\n",
       "      <td>../face_detection/database/Chris_Hemsworth/chris_hemsworth.jpg</td>\n",
       "      <td>0.072737</td>\n",
       "    </tr>\n",
       "    <tr>\n",
       "      <th>1</th>\n",
       "      <td>../face_detection/database/Chris_Hemsworth/test_chris_2.jpg</td>\n",
       "      <td>0.195394</td>\n",
       "    </tr>\n",
       "  </tbody>\n",
       "</table>\n",
       "</div>"
      ],
      "text/plain": [
       "                                                         identity  \\\n",
       "0  ../face_detection/database/Chris_Hemsworth/chris_hemsworth.jpg   \n",
       "1     ../face_detection/database/Chris_Hemsworth/test_chris_2.jpg   \n",
       "\n",
       "   VGG-Face_cosine  \n",
       "0         0.072737  \n",
       "1         0.195394  "
      ]
     },
     "execution_count": 6,
     "metadata": {},
     "output_type": "execute_result"
    }
   ],
   "source": [
    "df"
   ]
  }
 ],
 "metadata": {
  "kernelspec": {
   "display_name": "Python 3 (ipykernel)",
   "language": "python",
   "name": "python3"
  },
  "language_info": {
   "codemirror_mode": {
    "name": "ipython",
    "version": 3
   },
   "file_extension": ".py",
   "mimetype": "text/x-python",
   "name": "python",
   "nbconvert_exporter": "python",
   "pygments_lexer": "ipython3",
   "version": "3.8.10"
  }
 },
 "nbformat": 4,
 "nbformat_minor": 5
}
